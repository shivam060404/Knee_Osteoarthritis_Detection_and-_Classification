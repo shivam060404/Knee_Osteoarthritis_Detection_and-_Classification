{
  "cells": [
    {
      "cell_type": "code",
      "execution_count": null,
      "metadata": {
        "colab": {
          "base_uri": "https://localhost:8080/"
        },
        "id": "6UJvanqs-A3j",
        "outputId": "b46cf223-57e4-49a2-9e18-7708c09a91f6"
      },
      "outputs": [
        {
          "output_type": "stream",
          "name": "stdout",
          "text": [
            "Drive already mounted at /content/drive; to attempt to forcibly remount, call drive.mount(\"/content/drive\", force_remount=True).\n"
          ]
        }
      ],
      "source": [
        "\n",
        "from google.colab import drive\n",
        "drive.mount('/content/drive')"
      ]
    },
    {
      "cell_type": "code",
      "execution_count": null,
      "metadata": {
        "id": "0B9tKCkDeMcb"
      },
      "outputs": [],
      "source": [
        "import numpy as np\n",
        "import pandas as pd\n",
        "%matplotlib inline\n",
        "import matplotlib as mpl\n",
        "import matplotlib.pyplot as plt\n",
        "import os\n",
        "import warnings\n",
        "warnings.filterwarnings('ignore')"
      ]
    },
    {
      "cell_type": "code",
      "execution_count": null,
      "metadata": {
        "id": "2UsQkRl7eN8g"
      },
      "outputs": [],
      "source": [
        "import tensorflow as tf\n",
        "from tensorflow import keras\n",
        "from tensorflow.keras import layers\n",
        "from tensorflow.keras import models\n"
      ]
    },
    {
      "cell_type": "code",
      "execution_count": null,
      "metadata": {
        "id": "QGfDH3RVeXW5"
      },
      "outputs": [],
      "source": [
        "train_dir=r'/content/drive/MyDrive/train1'\n",
        "val_dir=r'/content/drive/MyDrive/val'\n",
        "test_dir=r'/content/drive/MyDrive/test'"
      ]
    },
    {
      "cell_type": "code",
      "execution_count": null,
      "metadata": {
        "colab": {
          "base_uri": "https://localhost:8080/"
        },
        "id": "SoIpQDZ4Quo2",
        "outputId": "f3919f29-dafd-487b-a707-151dc581b8d1"
      },
      "outputs": [
        {
          "output_type": "stream",
          "name": "stdout",
          "text": [
            "Requirement already satisfied: Pillow in /usr/local/lib/python3.10/dist-packages (10.4.0)\n"
          ]
        }
      ],
      "source": [
        "!pip install Pillow"
      ]
    },
    {
      "cell_type": "code",
      "execution_count": null,
      "metadata": {
        "id": "dosB660hQSWR"
      },
      "outputs": [],
      "source": [
        "import os\n",
        "import numpy as np\n",
        "from PIL import Image\n",
        "\n",
        "def load_x_ray_data(train_dir, val_dir, test_dir):\n",
        "    \"\"\"Loads X-ray image data from specified directories.\n",
        "\n",
        "    Args:\n",
        "        train_dir: Path to the training data directory.\n",
        "        val_dir: Path to the validation data directory.\n",
        "        test_dir: Path to the test data directory.\n",
        "\n",
        "    Returns:\n",
        "        A dictionary containing training, validation, and test data and labels.\n",
        "    \"\"\"\n",
        "    def load_images_from_dir(dir_path):\n",
        "        images = []\n",
        "        labels = []\n",
        "        for class_folder in os.listdir(dir_path):\n",
        "            class_path = os.path.join(dir_path, class_folder)\n",
        "            if os.path.isdir(class_path):\n",
        "                for image_file in os.listdir(class_path):\n",
        "                    image_path = os.path.join(class_path, image_file)\n",
        "                    try:\n",
        "                        # Load image and convert to grayscale\n",
        "                        image = Image.open(image_path).convert('L')\n",
        "                        # Resize image to a desired size (e.g., 224x224)\n",
        "                        image = image.resize((224, 224))\n",
        "                        # Convert image to numpy array\n",
        "                        image_array = np.array(image)\n",
        "                        # Append image and label\n",
        "                        images.append(image_array)\n",
        "                        labels.append(class_folder)  # Assuming folder names are class labels\n",
        "                    except Exception as e:\n",
        "                        print(f\"Error loading image {image_path}: {e}\")\n",
        "        return images, labels\n",
        "    # Load data from each directory\n",
        "    train_images, train_labels = load_images_from_dir(train_dir)\n",
        "    val_images, val_labels = load_images_from_dir(val_dir)\n",
        "    test_images, test_labels = load_images_from_dir(test_dir)\n",
        "    # Convert to numpy arrays\n",
        "    train_images = np.array(train_images)\n",
        "    train_labels = np.array(train_labels)\n",
        "    val_images = np.array(val_images)\n",
        "    val_labels = np.array(val_labels)\n",
        "    test_images = np.array(test_images)\n",
        "    test_labels = np.array(test_labels)\n",
        "    # Store data in a dictionary\n",
        "    x_ray_data = {\n",
        "        'train_images': train_images,\n",
        "        'train_labels': train_labels,\n",
        "        'val_images': val_images,\n",
        "        'val_labels': val_labels,\n",
        "        'test_images': test_images,\n",
        "        'test_labels': test_labels\n",
        "    }\n",
        "    return x_ray_data"
      ]
    },
    {
      "cell_type": "code",
      "execution_count": null,
      "metadata": {
        "id": "WSp2WCu8G_GR"
      },
      "outputs": [],
      "source": [
        "x_ray_data = load_x_ray_data(train_dir, val_dir, test_dir)  # Assuming you have a function to load X-ray data\n",
        "\n"
      ]
    },
    {
      "cell_type": "code",
      "execution_count": null,
      "metadata": {
        "colab": {
          "base_uri": "https://localhost:8080/"
        },
        "id": "3WNeZWm_JYeD",
        "outputId": "3ba40642-e820-4ec1-f26c-0b8f36520412"
      },
      "outputs": [
        {
          "output_type": "stream",
          "name": "stdout",
          "text": [
            "{'train_images': array([[[111, 109, 110, ...,  84,  77,  70],\n",
            "        [108, 109, 111, ...,  82,  78,  71],\n",
            "        [105, 109, 113, ...,  82,  78,  73],\n",
            "        ...,\n",
            "        [ 10,   9,   8, ...,  76,  75,  72],\n",
            "        [ 10,   9,   8, ...,  74,  71,  81],\n",
            "        [ 10,   9,   8, ...,  76,  72,  82]],\n",
            "\n",
            "       [[117, 122, 125, ...,  96,  96,  93],\n",
            "        [116, 125, 128, ...,  94,  90,  87],\n",
            "        [114, 122, 130, ...,  98,  95,  90],\n",
            "        ...,\n",
            "        [108, 111, 108, ...,  10,   5,   6],\n",
            "        [106, 118, 112, ...,   8,   5,   6],\n",
            "        [103, 112, 115, ...,  10,   5,   5]],\n",
            "\n",
            "       [[ 87,  92,  94, ...,  75,  73,  72],\n",
            "        [ 87,  92,  95, ...,  74,  73,  72],\n",
            "        [ 85,  90,  95, ...,  74,  73,  71],\n",
            "        ...,\n",
            "        [117, 119, 115, ...,  15,  14,  14],\n",
            "        [118, 118, 116, ...,  17,  15,  12],\n",
            "        [117, 116, 117, ...,  17,  14,  12]],\n",
            "\n",
            "       ...,\n",
            "\n",
            "       [[ 32,  36,  35, ...,  53,  52,  52],\n",
            "        [ 30,  33,  36, ...,  52,  53,  53],\n",
            "        [ 32,  34,  35, ...,  50,  52,  52],\n",
            "        ...,\n",
            "        [ 26,  26,  27, ...,  15,  14,  14],\n",
            "        [ 27,  29,  27, ...,  16,  14,  14],\n",
            "        [ 30,  32,  26, ...,  16,  15,  13]],\n",
            "\n",
            "       [[176, 177, 180, ...,  43,  41,  38],\n",
            "        [176, 177, 180, ...,  45,  42,  39],\n",
            "        [174, 176, 179, ...,  46,  42,  39],\n",
            "        ...,\n",
            "        [ 47,  49,  50, ..., 100, 100,  98],\n",
            "        [ 47,  48,  51, ..., 102, 102, 100],\n",
            "        [ 47,  49,  50, ..., 104, 103, 100]],\n",
            "\n",
            "       [[110, 108, 109, ...,  90,  86,  84],\n",
            "        [110, 110, 111, ...,  89,  85,  85],\n",
            "        [109, 111, 111, ...,  88,  87,  85],\n",
            "        ...,\n",
            "        [ 85,  86,  87, ..., 103,  99,  99],\n",
            "        [ 84,  86,  87, ..., 103,  99, 100],\n",
            "        [ 84,  87,  88, ..., 102,  99, 102]]], dtype=uint8), 'train_labels': array(['0', '0', '0', ..., '4', '4', '4'], dtype='<U1'), 'val_images': array([[[ 68,  70,  73, ...,  69,  66,  64],\n",
            "        [ 69,  70,  74, ...,  68,  65,  63],\n",
            "        [ 68,  71,  73, ...,  68,  65,  62],\n",
            "        ...,\n",
            "        [ 21,  22,  23, ..., 120, 116, 115],\n",
            "        [ 21,  22,  24, ..., 118, 116, 114],\n",
            "        [ 22,  22,  23, ..., 119, 116, 114]],\n",
            "\n",
            "       [[ 37,  36,  37, ...,  61,  60,  58],\n",
            "        [ 36,  37,  38, ...,  62,  60,  58],\n",
            "        [ 36,  37,  39, ...,  61,  60,  58],\n",
            "        ...,\n",
            "        [ 94,  94,  94, ...,  14,  13,  11],\n",
            "        [ 91,  94,  94, ...,  13,  14,  12],\n",
            "        [ 90,  94,  96, ...,  13,  13,  12]],\n",
            "\n",
            "       [[ 92,  94,  95, ...,  80,  77,  71],\n",
            "        [ 94,  95,  95, ...,  79,  77,  74],\n",
            "        [ 92,  94,  96, ...,  76,  74,  75],\n",
            "        ...,\n",
            "        [ 39,  41,  42, ..., 112, 111, 107],\n",
            "        [ 38,  39,  41, ..., 113, 113, 112],\n",
            "        [ 39,  40,  42, ..., 115, 112, 114]],\n",
            "\n",
            "       ...,\n",
            "\n",
            "       [[209, 209, 209, ..., 187, 185, 184],\n",
            "        [210, 211, 209, ..., 188, 185, 184],\n",
            "        [210, 210, 210, ..., 187, 185, 183],\n",
            "        ...,\n",
            "        [105, 107, 108, ..., 173, 173, 171],\n",
            "        [106, 107, 109, ..., 174, 175, 173],\n",
            "        [107, 108, 110, ..., 174, 173, 172]],\n",
            "\n",
            "       [[145, 148, 147, ...,  87,  85,  84],\n",
            "        [147, 145, 145, ...,  86,  85,  83],\n",
            "        [146, 146, 142, ...,  86,  84,  83],\n",
            "        ...,\n",
            "        [ 77,  80,  80, ..., 111, 112, 113],\n",
            "        [ 76,  79,  80, ..., 111, 110, 111],\n",
            "        [ 76,  78,  80, ..., 112, 111, 113]],\n",
            "\n",
            "       [[108, 110, 113, ..., 122, 118, 117],\n",
            "        [109, 110, 113, ..., 122, 119, 118],\n",
            "        [107, 110, 111, ..., 122, 120, 118],\n",
            "        ...,\n",
            "        [  0,   0,   0, ..., 168, 164, 152],\n",
            "        [  0,   0,   0, ..., 168, 165, 155],\n",
            "        [  0,   0,   0, ..., 168, 167, 155]]], dtype=uint8), 'val_labels': array(['0', '0', '0', '0', '0', '0', '0', '0', '0', '0', '0', '0', '0',\n",
            "       '0', '0', '0', '0', '0', '0', '0', '0', '0', '0', '0', '0', '0',\n",
            "       '0', '0', '0', '0', '0', '0', '0', '0', '0', '0', '0', '0', '0',\n",
            "       '0', '0', '0', '0', '0', '0', '0', '0', '0', '0', '0', '0', '0',\n",
            "       '0', '0', '0', '0', '0', '0', '0', '0', '0', '0', '0', '0', '0',\n",
            "       '0', '0', '0', '0', '0', '0', '0', '0', '0', '0', '0', '0', '0',\n",
            "       '0', '0', '0', '0', '0', '0', '0', '0', '0', '0', '0', '0', '0',\n",
            "       '0', '0', '0', '0', '0', '0', '0', '0', '0', '0', '0', '0', '0',\n",
            "       '0', '0', '0', '0', '0', '0', '0', '0', '0', '0', '0', '0', '0',\n",
            "       '0', '0', '0', '0', '0', '0', '0', '0', '0', '0', '0', '0', '0',\n",
            "       '0', '0', '0', '0', '0', '0', '0', '0', '0', '0', '0', '0', '0',\n",
            "       '0', '0', '0', '0', '0', '0', '0', '0', '0', '0', '0', '0', '0',\n",
            "       '0', '0', '0', '0', '0', '0', '0', '0', '0', '0', '0', '0', '0',\n",
            "       '0', '0', '0', '0', '0', '0', '0', '0', '0', '0', '0', '0', '0',\n",
            "       '0', '0', '0', '0', '0', '0', '0', '0', '0', '0', '0', '0', '0',\n",
            "       '0', '0', '0', '0', '0', '0', '0', '0', '0', '0', '0', '0', '0',\n",
            "       '0', '0', '0', '0', '0', '0', '0', '0', '0', '0', '0', '0', '0',\n",
            "       '0', '0', '0', '0', '0', '0', '0', '0', '0', '0', '0', '0', '0',\n",
            "       '0', '0', '0', '0', '0', '0', '0', '0', '0', '0', '0', '0', '0',\n",
            "       '0', '0', '0', '0', '0', '0', '0', '0', '0', '0', '0', '0', '0',\n",
            "       '0', '0', '0', '0', '0', '0', '0', '0', '0', '0', '0', '0', '0',\n",
            "       '0', '0', '0', '0', '0', '0', '0', '0', '0', '0', '0', '0', '0',\n",
            "       '0', '0', '0', '0', '0', '0', '0', '0', '0', '0', '0', '0', '0',\n",
            "       '0', '0', '0', '0', '0', '0', '0', '0', '0', '0', '0', '0', '0',\n",
            "       '0', '0', '0', '0', '0', '0', '0', '0', '0', '0', '0', '0', '0',\n",
            "       '0', '0', '0', '1', '1', '1', '1', '1', '1', '1', '1', '1', '1',\n",
            "       '1', '1', '1', '1', '1', '1', '1', '1', '1', '1', '1', '1', '1',\n",
            "       '1', '1', '1', '1', '1', '1', '1', '1', '1', '1', '1', '1', '1',\n",
            "       '1', '1', '1', '1', '1', '1', '1', '1', '1', '1', '1', '1', '1',\n",
            "       '1', '1', '1', '1', '1', '1', '1', '1', '1', '1', '1', '1', '1',\n",
            "       '1', '1', '1', '1', '1', '1', '1', '1', '1', '1', '1', '1', '1',\n",
            "       '1', '1', '1', '1', '1', '1', '1', '1', '1', '1', '1', '1', '1',\n",
            "       '1', '1', '1', '1', '1', '1', '1', '1', '1', '1', '1', '1', '1',\n",
            "       '1', '1', '1', '1', '1', '1', '1', '1', '1', '1', '1', '1', '1',\n",
            "       '1', '1', '1', '1', '1', '1', '1', '1', '1', '1', '1', '1', '1',\n",
            "       '1', '1', '1', '1', '1', '1', '1', '1', '1', '1', '1', '1', '1',\n",
            "       '1', '1', '1', '1', '1', '1', '1', '1', '1', '1', '1', '1', '1',\n",
            "       '2', '2', '2', '2', '2', '2', '2', '2', '2', '2', '2', '2', '2',\n",
            "       '2', '2', '2', '2', '2', '2', '2', '2', '2', '2', '2', '2', '2',\n",
            "       '2', '2', '2', '2', '2', '2', '2', '2', '2', '2', '2', '2', '2',\n",
            "       '2', '2', '2', '2', '2', '2', '2', '2', '2', '2', '2', '2', '2',\n",
            "       '2', '2', '2', '2', '2', '2', '2', '2', '2', '2', '2', '2', '2',\n",
            "       '2', '2', '2', '2', '2', '2', '2', '2', '2', '2', '2', '2', '2',\n",
            "       '2', '2', '2', '2', '2', '2', '2', '2', '2', '2', '2', '2', '2',\n",
            "       '2', '2', '2', '2', '2', '2', '2', '2', '2', '2', '2', '2', '2',\n",
            "       '2', '2', '2', '2', '2', '2', '2', '2', '2', '2', '2', '2', '2',\n",
            "       '2', '2', '2', '2', '2', '2', '2', '2', '2', '2', '2', '2', '2',\n",
            "       '2', '2', '2', '2', '2', '2', '2', '2', '2', '2', '2', '2', '2',\n",
            "       '2', '2', '2', '2', '2', '2', '2', '2', '2', '2', '2', '2', '2',\n",
            "       '2', '2', '2', '2', '2', '2', '2', '2', '2', '2', '2', '2', '2',\n",
            "       '2', '2', '2', '2', '2', '2', '2', '2', '2', '2', '2', '2', '2',\n",
            "       '2', '2', '2', '2', '2', '2', '2', '2', '2', '2', '2', '2', '2',\n",
            "       '2', '2', '2', '2', '2', '2', '2', '2', '2', '2', '2', '2', '2',\n",
            "       '2', '2', '2', '2', '3', '3', '3', '3', '3', '3', '3', '3', '3',\n",
            "       '3', '3', '3', '3', '3', '3', '3', '3', '3', '3', '3', '3', '3',\n",
            "       '3', '3', '3', '3', '3', '3', '3', '3', '3', '3', '3', '3', '3',\n",
            "       '3', '3', '3', '3', '3', '3', '3', '3', '3', '3', '3', '3', '3',\n",
            "       '3', '3', '3', '3', '3', '3', '3', '3', '3', '3', '3', '3', '3',\n",
            "       '3', '3', '3', '3', '3', '3', '3', '3', '3', '3', '3', '3', '3',\n",
            "       '3', '3', '3', '3', '3', '3', '3', '3', '3', '3', '3', '3', '3',\n",
            "       '3', '3', '3', '3', '3', '3', '3', '3', '3', '3', '3', '3', '3',\n",
            "       '3', '3', '3', '3', '3', '3', '4', '4', '4', '4', '4', '4', '4',\n",
            "       '4', '4', '4', '4', '4', '4', '4', '4', '4', '4', '4', '4', '4',\n",
            "       '4', '4', '4', '4', '4', '4', '4'], dtype='<U1'), 'test_images': array([[[143, 142, 141, ...,  53,  52,  51],\n",
            "        [142, 142, 141, ...,  53,  52,  52],\n",
            "        [143, 142, 143, ...,  54,  52,  52],\n",
            "        ...,\n",
            "        [ 29,  32,  38, ..., 115, 101,  97],\n",
            "        [ 31,  34,  38, ..., 118, 105, 102],\n",
            "        [ 31,  31,  38, ..., 116, 107, 108]],\n",
            "\n",
            "       [[ 42,  45,  48, ..., 120, 111, 111],\n",
            "        [ 43,  46,  46, ..., 116, 114, 112],\n",
            "        [ 42,  45,  46, ..., 116, 114, 112],\n",
            "        ...,\n",
            "        [ 39,  41,  54, ...,  49,  42,  40],\n",
            "        [ 37,  43,  66, ...,  47,  41,  40],\n",
            "        [ 38,  45,  77, ...,  46,  43,  40]],\n",
            "\n",
            "       [[114, 111, 110, ...,  76,  72,  70],\n",
            "        [113, 111, 111, ...,  76,  72,  70],\n",
            "        [113, 110, 111, ...,  76,  73,  69],\n",
            "        ...,\n",
            "        [ 32,  38,  42, ...,  98,  94,  90],\n",
            "        [ 31,  37,  41, ...,  96,  96,  93],\n",
            "        [ 31,  37,  40, ...,  95,  97,  92]],\n",
            "\n",
            "       ...,\n",
            "\n",
            "       [[115, 116, 115, ...,  93,  91,  90],\n",
            "        [115, 113, 113, ...,  93,  91,  91],\n",
            "        [114, 113, 112, ...,  93,  92,  91],\n",
            "        ...,\n",
            "        [ 75,  77,  79, ..., 106, 106, 105],\n",
            "        [ 76,  76,  77, ..., 106, 106, 106],\n",
            "        [ 76,  76,  78, ..., 107, 105, 104]],\n",
            "\n",
            "       [[140, 138, 135, ..., 117, 111, 110],\n",
            "        [137, 138, 138, ..., 118, 110, 109],\n",
            "        [142, 143, 140, ..., 119, 112, 108],\n",
            "        ...,\n",
            "        [ 91,  92,  94, ..., 140, 133, 128],\n",
            "        [ 92,  93,  93, ..., 138, 134, 128],\n",
            "        [ 92,  93,  95, ..., 135, 131, 129]],\n",
            "\n",
            "       [[155, 154, 147, ...,  86,  84,  86],\n",
            "        [154, 159, 150, ...,  85,  86,  87],\n",
            "        [154, 161, 159, ...,  86,  86,  86],\n",
            "        ...,\n",
            "        [100, 101, 101, ...,  98,  94,  96],\n",
            "        [100, 101, 100, ...,  97,  91,  96],\n",
            "        [100,  98, 100, ...,  97,  90,  94]]], dtype=uint8), 'test_labels': array(['0', '0', '0', ..., '4', '4', '4'], dtype='<U1')}\n"
          ]
        }
      ],
      "source": [
        "print(x_ray_data)"
      ]
    },
    {
      "cell_type": "markdown",
      "metadata": {
        "id": "jiXKBZO1Hj9B"
      },
      "source": []
    },
    {
      "cell_type": "code",
      "execution_count": null,
      "metadata": {
        "colab": {
          "base_uri": "https://localhost:8080/"
        },
        "id": "vbU8mwTojLZx",
        "outputId": "d01e7ba5-2ea3-450a-f8c9-4968eb7562e0"
      },
      "outputs": [
        {
          "output_type": "stream",
          "name": "stdout",
          "text": [
            "Found 5778 images belonging to 5 classes.\n",
            "Found 826 images belonging to 5 classes.\n"
          ]
        }
      ],
      "source": [
        "from tensorflow.keras.preprocessing.image import ImageDataGenerator\n",
        "train_datagen=ImageDataGenerator(\n",
        "    rescale=1./255,\n",
        "    rotation_range=40,\n",
        "    width_shift_range=0.2,\n",
        "    height_shift_range=0.2,\n",
        "    shear_range=0.2,\n",
        "    zoom_range=0.2,\n",
        "    horizontal_flip=True\n",
        "    )\n",
        "\n",
        "test_datagen=ImageDataGenerator(rescale=1./255)\n",
        "\n",
        "train_generator=train_datagen.flow_from_directory(\n",
        "    train_dir,\n",
        "    target_size=(224,224),\n",
        "    batch_size=32,\n",
        "    class_mode='categorical')\n",
        "\n",
        "\n",
        "\n",
        "validation_generator = test_datagen.flow_from_directory(\n",
        "        val_dir,\n",
        "        target_size=(224, 224),\n",
        "        batch_size=32,\n",
        "        class_mode='categorical')"
      ]
    },
    {
      "cell_type": "code",
      "source": [
        "\n",
        "from sklearn.preprocessing import MinMaxScaler, StandardScaler\n",
        "\n",
        "\n",
        "# Get a batch of images and labels from the generator\n",
        "X_batch, y_batch = next(train_generator)\n",
        "\n",
        "\n",
        "# Reshape the image data for scaling\n",
        "X_batch_reshaped = X_batch.reshape(X_batch.shape[0], -1)  # Flatten the images\n",
        "\n",
        "# Min-Max Scaling\n",
        "scaler = MinMaxScaler()\n",
        "X_scaled = scaler.fit_transform(X_batch_reshaped)\n",
        "\n",
        "# Reshape the scaled data back to the original image shape\n",
        "X_scaled = X_scaled.reshape(X_batch.shape)\n",
        "\n",
        "# Standardization (similar process)\n",
        "scaler = StandardScaler()\n",
        "X_scaled_std = scaler.fit_transform(X_batch_reshaped)\n",
        "X_scaled_std = X_scaled_std.reshape(X_batch.shape)\n",
        "\n"
      ],
      "metadata": {
        "id": "GsjoPYN7qIEo"
      },
      "execution_count": null,
      "outputs": []
    },
    {
      "cell_type": "code",
      "execution_count": null,
      "metadata": {
        "id": "k4_K6LgoDYzJ"
      },
      "outputs": [],
      "source": [
        "\n",
        "from tensorflow.keras.applications import ResNet50\n",
        "conv_base = ResNet50(weights='imagenet', include_top=False, input_shape=(224, 224, 3))\n"
      ]
    },
    {
      "cell_type": "code",
      "execution_count": null,
      "metadata": {
        "id": "4kWuFRCiBhaK"
      },
      "outputs": [],
      "source": [
        "model = models.Sequential()\n",
        "model.add(layers.InputLayer(input_shape=(224, 224, 3)))\n",
        "model.add(conv_base)\n",
        "model.add(layers.Flatten())\n",
        "model.add(layers.Dense(256, activation='relu'))\n",
        "model.add(layers.Dense(5, activation='softmax'))"
      ]
    },
    {
      "cell_type": "code",
      "execution_count": null,
      "metadata": {
        "colab": {
          "base_uri": "https://localhost:8080/",
          "height": 272
        },
        "id": "dC1SwMvSka0G",
        "outputId": "e83db908-3273-443c-e496-28ffb2a607f3"
      },
      "outputs": [
        {
          "output_type": "display_data",
          "data": {
            "text/plain": [
              "\u001b[1mModel: \"sequential_1\"\u001b[0m\n"
            ],
            "text/html": [
              "<pre style=\"white-space:pre;overflow-x:auto;line-height:normal;font-family:Menlo,'DejaVu Sans Mono',consolas,'Courier New',monospace\"><span style=\"font-weight: bold\">Model: \"sequential_1\"</span>\n",
              "</pre>\n"
            ]
          },
          "metadata": {}
        },
        {
          "output_type": "display_data",
          "data": {
            "text/plain": [
              "┏━━━━━━━━━━━━━━━━━━━━━━━━━━━━━━━━━━━━━━┳━━━━━━━━━━━━━━━━━━━━━━━━━━━━━┳━━━━━━━━━━━━━━━━━┓\n",
              "┃\u001b[1m \u001b[0m\u001b[1mLayer (type)                        \u001b[0m\u001b[1m \u001b[0m┃\u001b[1m \u001b[0m\u001b[1mOutput Shape               \u001b[0m\u001b[1m \u001b[0m┃\u001b[1m \u001b[0m\u001b[1m        Param #\u001b[0m\u001b[1m \u001b[0m┃\n",
              "┡━━━━━━━━━━━━━━━━━━━━━━━━━━━━━━━━━━━━━━╇━━━━━━━━━━━━━━━━━━━━━━━━━━━━━╇━━━━━━━━━━━━━━━━━┩\n",
              "│ resnet50 (\u001b[38;5;33mFunctional\u001b[0m)                │ (\u001b[38;5;45mNone\u001b[0m, \u001b[38;5;34m7\u001b[0m, \u001b[38;5;34m7\u001b[0m, \u001b[38;5;34m2048\u001b[0m)          │      \u001b[38;5;34m23,587,712\u001b[0m │\n",
              "├──────────────────────────────────────┼─────────────────────────────┼─────────────────┤\n",
              "│ flatten_1 (\u001b[38;5;33mFlatten\u001b[0m)                  │ (\u001b[38;5;45mNone\u001b[0m, \u001b[38;5;34m100352\u001b[0m)              │               \u001b[38;5;34m0\u001b[0m │\n",
              "├──────────────────────────────────────┼─────────────────────────────┼─────────────────┤\n",
              "│ dense_2 (\u001b[38;5;33mDense\u001b[0m)                      │ (\u001b[38;5;45mNone\u001b[0m, \u001b[38;5;34m256\u001b[0m)                 │      \u001b[38;5;34m25,690,368\u001b[0m │\n",
              "├──────────────────────────────────────┼─────────────────────────────┼─────────────────┤\n",
              "│ dense_3 (\u001b[38;5;33mDense\u001b[0m)                      │ (\u001b[38;5;45mNone\u001b[0m, \u001b[38;5;34m5\u001b[0m)                   │           \u001b[38;5;34m1,285\u001b[0m │\n",
              "└──────────────────────────────────────┴─────────────────────────────┴─────────────────┘\n"
            ],
            "text/html": [
              "<pre style=\"white-space:pre;overflow-x:auto;line-height:normal;font-family:Menlo,'DejaVu Sans Mono',consolas,'Courier New',monospace\">┏━━━━━━━━━━━━━━━━━━━━━━━━━━━━━━━━━━━━━━┳━━━━━━━━━━━━━━━━━━━━━━━━━━━━━┳━━━━━━━━━━━━━━━━━┓\n",
              "┃<span style=\"font-weight: bold\"> Layer (type)                         </span>┃<span style=\"font-weight: bold\"> Output Shape                </span>┃<span style=\"font-weight: bold\">         Param # </span>┃\n",
              "┡━━━━━━━━━━━━━━━━━━━━━━━━━━━━━━━━━━━━━━╇━━━━━━━━━━━━━━━━━━━━━━━━━━━━━╇━━━━━━━━━━━━━━━━━┩\n",
              "│ resnet50 (<span style=\"color: #0087ff; text-decoration-color: #0087ff\">Functional</span>)                │ (<span style=\"color: #00d7ff; text-decoration-color: #00d7ff\">None</span>, <span style=\"color: #00af00; text-decoration-color: #00af00\">7</span>, <span style=\"color: #00af00; text-decoration-color: #00af00\">7</span>, <span style=\"color: #00af00; text-decoration-color: #00af00\">2048</span>)          │      <span style=\"color: #00af00; text-decoration-color: #00af00\">23,587,712</span> │\n",
              "├──────────────────────────────────────┼─────────────────────────────┼─────────────────┤\n",
              "│ flatten_1 (<span style=\"color: #0087ff; text-decoration-color: #0087ff\">Flatten</span>)                  │ (<span style=\"color: #00d7ff; text-decoration-color: #00d7ff\">None</span>, <span style=\"color: #00af00; text-decoration-color: #00af00\">100352</span>)              │               <span style=\"color: #00af00; text-decoration-color: #00af00\">0</span> │\n",
              "├──────────────────────────────────────┼─────────────────────────────┼─────────────────┤\n",
              "│ dense_2 (<span style=\"color: #0087ff; text-decoration-color: #0087ff\">Dense</span>)                      │ (<span style=\"color: #00d7ff; text-decoration-color: #00d7ff\">None</span>, <span style=\"color: #00af00; text-decoration-color: #00af00\">256</span>)                 │      <span style=\"color: #00af00; text-decoration-color: #00af00\">25,690,368</span> │\n",
              "├──────────────────────────────────────┼─────────────────────────────┼─────────────────┤\n",
              "│ dense_3 (<span style=\"color: #0087ff; text-decoration-color: #0087ff\">Dense</span>)                      │ (<span style=\"color: #00d7ff; text-decoration-color: #00d7ff\">None</span>, <span style=\"color: #00af00; text-decoration-color: #00af00\">5</span>)                   │           <span style=\"color: #00af00; text-decoration-color: #00af00\">1,285</span> │\n",
              "└──────────────────────────────────────┴─────────────────────────────┴─────────────────┘\n",
              "</pre>\n"
            ]
          },
          "metadata": {}
        },
        {
          "output_type": "display_data",
          "data": {
            "text/plain": [
              "\u001b[1m Total params: \u001b[0m\u001b[38;5;34m49,279,365\u001b[0m (187.99 MB)\n"
            ],
            "text/html": [
              "<pre style=\"white-space:pre;overflow-x:auto;line-height:normal;font-family:Menlo,'DejaVu Sans Mono',consolas,'Courier New',monospace\"><span style=\"font-weight: bold\"> Total params: </span><span style=\"color: #00af00; text-decoration-color: #00af00\">49,279,365</span> (187.99 MB)\n",
              "</pre>\n"
            ]
          },
          "metadata": {}
        },
        {
          "output_type": "display_data",
          "data": {
            "text/plain": [
              "\u001b[1m Trainable params: \u001b[0m\u001b[38;5;34m49,226,245\u001b[0m (187.78 MB)\n"
            ],
            "text/html": [
              "<pre style=\"white-space:pre;overflow-x:auto;line-height:normal;font-family:Menlo,'DejaVu Sans Mono',consolas,'Courier New',monospace\"><span style=\"font-weight: bold\"> Trainable params: </span><span style=\"color: #00af00; text-decoration-color: #00af00\">49,226,245</span> (187.78 MB)\n",
              "</pre>\n"
            ]
          },
          "metadata": {}
        },
        {
          "output_type": "display_data",
          "data": {
            "text/plain": [
              "\u001b[1m Non-trainable params: \u001b[0m\u001b[38;5;34m53,120\u001b[0m (207.50 KB)\n"
            ],
            "text/html": [
              "<pre style=\"white-space:pre;overflow-x:auto;line-height:normal;font-family:Menlo,'DejaVu Sans Mono',consolas,'Courier New',monospace\"><span style=\"font-weight: bold\"> Non-trainable params: </span><span style=\"color: #00af00; text-decoration-color: #00af00\">53,120</span> (207.50 KB)\n",
              "</pre>\n"
            ]
          },
          "metadata": {}
        }
      ],
      "source": [
        "model.summary()"
      ]
    },
    {
      "cell_type": "code",
      "source": [
        "!pip install scikeras\n",
        "from sklearn.model_selection import RandomizedSearchCV\n",
        "from sklearn.metrics import accuracy_score\n",
        "from scikeras.wrappers import KerasClassifier  # Import KerasClassifier\n",
        "from tensorflow.keras.optimizers import Adam, RMSprop\n",
        "from tensorflow import keras\n",
        "from tensorflow.keras import layers, models\n",
        "\n",
        "# ... (Your existing code for conv_base definition and param_dist) ...\n",
        "\n",
        "# Define the create_model function that returns a compiled Keras model\n",
        "def create_model(optimizer='adam',  # Default optimizer\n",
        "                loss='sparse_categorical_crossentropy',  # Default loss function\n",
        "                metrics=['accuracy']):  # Default metrics\n",
        "    model = models.Sequential()\n",
        "    model.add(layers.InputLayer(input_shape=(224, 224, 3)))\n",
        "    model.add(conv_base)\n",
        "    model.add(layers.Flatten())\n",
        "    model.add(layers.Dense(256, activation='relu'))\n",
        "    model.add(layers.Dense(5, activation='softmax'))\n",
        "\n",
        "    model.compile(optimizer=optimizer, loss=loss, metrics=metrics)\n",
        "    return model\n",
        "\n",
        "\n",
        "# Wrap your Keras model with KerasClassifier\n",
        "# Instead of passing the model directly, pass the create_model function\n",
        "model = KerasClassifier(model=create_model,\n",
        "                        optimizer='adam',  # Specify optimizer\n",
        "                        loss='sparse_categorical_crossentropy',  # Specify loss function\n",
        "                        metrics=['accuracy'])  # Specify metrics\n",
        "\n",
        "\n",
        "# Create a RandomizedSearchCV object, specifying 'accuracy' as the scoring metric\n",
        "random_search = RandomizedSearchCV(estimator=model,\n",
        "                                   param_distributions=param_dist,\n",
        "                                   n_iter=10,\n",
        "                                   cv=3,\n",
        "                                   scoring='accuracy')  # Add scoring='accuracy'\n",
        "\n",
        "\n",
        "# **Change here:** Use flow_from_directory (or flow) to get data for fitting\n",
        "# Assuming 'train_datagen' is an ImageDataGenerator for your training data\n",
        "# and 'train_dir' is the path to your training data directory\n",
        "# Adjust parameters as needed for your specific data and ImageDataGenerator setup\n",
        "train_generator= train_datagen.flow_from_directory(\n",
        "    train_dir,  # Replace with your training data directory\n",
        "    target_size=(224, 224),  # Adjust if needed\n",
        "    batch_size=32,  # Adjust if needed\n",
        "    class_mode='sparse'  # Adjust if needed\n",
        ")\n",
        "\n",
        "\n",
        "# Fit the random search to the data\n",
        "# **Change here:** Pass X and y to fit, unpacking them from the generator\n",
        "# **Note:** This assumes that train_generator yields (X, y) tuples\n",
        "# You might need to adjust this if your generator yields something different\n",
        "# random_search_result = random_search.fit(train_generator)\n",
        "for i in train_generator:\n",
        "    random_search_result = random_search.fit(i)\n",
        "    break  # This will only use the first batch for fitting, adjust if needed\n",
        "\n",
        "# Print the best parameters and score\n",
        "print(\"Best: %f using %s\" % (random_search_result.best_score_, random_search_result.best_params_))"
      ],
      "metadata": {
        "colab": {
          "base_uri": "https://localhost:8080/",
          "height": 706
        },
        "id": "LAegmUXBFVrS",
        "outputId": "abca02ea-63c4-44a1-d1ac-be06c8b9a3f4"
      },
      "execution_count": null,
      "outputs": [
        {
          "output_type": "stream",
          "name": "stdout",
          "text": [
            "Requirement already satisfied: scikeras in /usr/local/lib/python3.10/dist-packages (0.13.0)\n",
            "Requirement already satisfied: keras>=3.2.0 in /usr/local/lib/python3.10/dist-packages (from scikeras) (3.4.1)\n",
            "Requirement already satisfied: scikit-learn>=1.4.2 in /usr/local/lib/python3.10/dist-packages (from scikeras) (1.5.2)\n",
            "Requirement already satisfied: absl-py in /usr/local/lib/python3.10/dist-packages (from keras>=3.2.0->scikeras) (1.4.0)\n",
            "Requirement already satisfied: numpy in /usr/local/lib/python3.10/dist-packages (from keras>=3.2.0->scikeras) (1.26.4)\n",
            "Requirement already satisfied: rich in /usr/local/lib/python3.10/dist-packages (from keras>=3.2.0->scikeras) (13.9.3)\n",
            "Requirement already satisfied: namex in /usr/local/lib/python3.10/dist-packages (from keras>=3.2.0->scikeras) (0.0.8)\n",
            "Requirement already satisfied: h5py in /usr/local/lib/python3.10/dist-packages (from keras>=3.2.0->scikeras) (3.11.0)\n",
            "Requirement already satisfied: optree in /usr/local/lib/python3.10/dist-packages (from keras>=3.2.0->scikeras) (0.13.0)\n",
            "Requirement already satisfied: ml-dtypes in /usr/local/lib/python3.10/dist-packages (from keras>=3.2.0->scikeras) (0.4.1)\n",
            "Requirement already satisfied: packaging in /usr/local/lib/python3.10/dist-packages (from keras>=3.2.0->scikeras) (24.1)\n",
            "Requirement already satisfied: scipy>=1.6.0 in /usr/local/lib/python3.10/dist-packages (from scikit-learn>=1.4.2->scikeras) (1.13.1)\n",
            "Requirement already satisfied: joblib>=1.2.0 in /usr/local/lib/python3.10/dist-packages (from scikit-learn>=1.4.2->scikeras) (1.4.2)\n",
            "Requirement already satisfied: threadpoolctl>=3.1.0 in /usr/local/lib/python3.10/dist-packages (from scikit-learn>=1.4.2->scikeras) (3.5.0)\n",
            "Requirement already satisfied: typing-extensions>=4.5.0 in /usr/local/lib/python3.10/dist-packages (from optree->keras>=3.2.0->scikeras) (4.12.2)\n",
            "Requirement already satisfied: markdown-it-py>=2.2.0 in /usr/local/lib/python3.10/dist-packages (from rich->keras>=3.2.0->scikeras) (3.0.0)\n",
            "Requirement already satisfied: pygments<3.0.0,>=2.13.0 in /usr/local/lib/python3.10/dist-packages (from rich->keras>=3.2.0->scikeras) (2.18.0)\n",
            "Requirement already satisfied: mdurl~=0.1 in /usr/local/lib/python3.10/dist-packages (from markdown-it-py>=2.2.0->rich->keras>=3.2.0->scikeras) (0.1.2)\n",
            "Found 5778 images belonging to 5 classes.\n"
          ]
        },
        {
          "output_type": "error",
          "ename": "ValueError",
          "evalue": "Cannot have number of splits n_splits=3 greater than the number of samples: n_samples=2.",
          "traceback": [
            "\u001b[0;31m---------------------------------------------------------------------------\u001b[0m",
            "\u001b[0;31mValueError\u001b[0m                                Traceback (most recent call last)",
            "\u001b[0;32m<ipython-input-34-42612f7c99d1>\u001b[0m in \u001b[0;36m<cell line: 59>\u001b[0;34m()\u001b[0m\n\u001b[1;32m     58\u001b[0m \u001b[0;31m# random_search_result = random_search.fit(train_generator)\u001b[0m\u001b[0;34m\u001b[0m\u001b[0;34m\u001b[0m\u001b[0m\n\u001b[1;32m     59\u001b[0m \u001b[0;32mfor\u001b[0m \u001b[0mi\u001b[0m \u001b[0;32min\u001b[0m \u001b[0mtrain_generator\u001b[0m\u001b[0;34m:\u001b[0m\u001b[0;34m\u001b[0m\u001b[0;34m\u001b[0m\u001b[0m\n\u001b[0;32m---> 60\u001b[0;31m     \u001b[0mrandom_search_result\u001b[0m \u001b[0;34m=\u001b[0m \u001b[0mrandom_search\u001b[0m\u001b[0;34m.\u001b[0m\u001b[0mfit\u001b[0m\u001b[0;34m(\u001b[0m\u001b[0mi\u001b[0m\u001b[0;34m)\u001b[0m\u001b[0;34m\u001b[0m\u001b[0;34m\u001b[0m\u001b[0m\n\u001b[0m\u001b[1;32m     61\u001b[0m     \u001b[0;32mbreak\u001b[0m  \u001b[0;31m# This will only use the first batch for fitting, adjust if needed\u001b[0m\u001b[0;34m\u001b[0m\u001b[0;34m\u001b[0m\u001b[0m\n\u001b[1;32m     62\u001b[0m \u001b[0;34m\u001b[0m\u001b[0m\n",
            "\u001b[0;32m/usr/local/lib/python3.10/dist-packages/sklearn/base.py\u001b[0m in \u001b[0;36mwrapper\u001b[0;34m(estimator, *args, **kwargs)\u001b[0m\n\u001b[1;32m   1471\u001b[0m                 )\n\u001b[1;32m   1472\u001b[0m             ):\n\u001b[0;32m-> 1473\u001b[0;31m                 \u001b[0;32mreturn\u001b[0m \u001b[0mfit_method\u001b[0m\u001b[0;34m(\u001b[0m\u001b[0mestimator\u001b[0m\u001b[0;34m,\u001b[0m \u001b[0;34m*\u001b[0m\u001b[0margs\u001b[0m\u001b[0;34m,\u001b[0m \u001b[0;34m**\u001b[0m\u001b[0mkwargs\u001b[0m\u001b[0;34m)\u001b[0m\u001b[0;34m\u001b[0m\u001b[0;34m\u001b[0m\u001b[0m\n\u001b[0m\u001b[1;32m   1474\u001b[0m \u001b[0;34m\u001b[0m\u001b[0m\n\u001b[1;32m   1475\u001b[0m         \u001b[0;32mreturn\u001b[0m \u001b[0mwrapper\u001b[0m\u001b[0;34m\u001b[0m\u001b[0;34m\u001b[0m\u001b[0m\n",
            "\u001b[0;32m/usr/local/lib/python3.10/dist-packages/sklearn/model_selection/_search.py\u001b[0m in \u001b[0;36mfit\u001b[0;34m(self, X, y, **params)\u001b[0m\n\u001b[1;32m   1017\u001b[0m                 \u001b[0;32mreturn\u001b[0m \u001b[0mresults\u001b[0m\u001b[0;34m\u001b[0m\u001b[0;34m\u001b[0m\u001b[0m\n\u001b[1;32m   1018\u001b[0m \u001b[0;34m\u001b[0m\u001b[0m\n\u001b[0;32m-> 1019\u001b[0;31m             \u001b[0mself\u001b[0m\u001b[0;34m.\u001b[0m\u001b[0m_run_search\u001b[0m\u001b[0;34m(\u001b[0m\u001b[0mevaluate_candidates\u001b[0m\u001b[0;34m)\u001b[0m\u001b[0;34m\u001b[0m\u001b[0;34m\u001b[0m\u001b[0m\n\u001b[0m\u001b[1;32m   1020\u001b[0m \u001b[0;34m\u001b[0m\u001b[0m\n\u001b[1;32m   1021\u001b[0m             \u001b[0;31m# multimetric is determined here because in the case of a callable\u001b[0m\u001b[0;34m\u001b[0m\u001b[0;34m\u001b[0m\u001b[0m\n",
            "\u001b[0;32m/usr/local/lib/python3.10/dist-packages/sklearn/model_selection/_search.py\u001b[0m in \u001b[0;36m_run_search\u001b[0;34m(self, evaluate_candidates)\u001b[0m\n\u001b[1;32m   1958\u001b[0m     \u001b[0;32mdef\u001b[0m \u001b[0m_run_search\u001b[0m\u001b[0;34m(\u001b[0m\u001b[0mself\u001b[0m\u001b[0;34m,\u001b[0m \u001b[0mevaluate_candidates\u001b[0m\u001b[0;34m)\u001b[0m\u001b[0;34m:\u001b[0m\u001b[0;34m\u001b[0m\u001b[0;34m\u001b[0m\u001b[0m\n\u001b[1;32m   1959\u001b[0m         \u001b[0;34m\"\"\"Search n_iter candidates from param_distributions\"\"\"\u001b[0m\u001b[0;34m\u001b[0m\u001b[0;34m\u001b[0m\u001b[0m\n\u001b[0;32m-> 1960\u001b[0;31m         evaluate_candidates(\n\u001b[0m\u001b[1;32m   1961\u001b[0m             ParameterSampler(\n\u001b[1;32m   1962\u001b[0m                 \u001b[0mself\u001b[0m\u001b[0;34m.\u001b[0m\u001b[0mparam_distributions\u001b[0m\u001b[0;34m,\u001b[0m \u001b[0mself\u001b[0m\u001b[0;34m.\u001b[0m\u001b[0mn_iter\u001b[0m\u001b[0;34m,\u001b[0m \u001b[0mrandom_state\u001b[0m\u001b[0;34m=\u001b[0m\u001b[0mself\u001b[0m\u001b[0;34m.\u001b[0m\u001b[0mrandom_state\u001b[0m\u001b[0;34m\u001b[0m\u001b[0;34m\u001b[0m\u001b[0m\n",
            "\u001b[0;32m/usr/local/lib/python3.10/dist-packages/sklearn/model_selection/_search.py\u001b[0m in \u001b[0;36mevaluate_candidates\u001b[0;34m(candidate_params, cv, more_results)\u001b[0m\n\u001b[1;32m    975\u001b[0m                         \u001b[0;34m**\u001b[0m\u001b[0mfit_and_score_kwargs\u001b[0m\u001b[0;34m,\u001b[0m\u001b[0;34m\u001b[0m\u001b[0;34m\u001b[0m\u001b[0m\n\u001b[1;32m    976\u001b[0m                     )\n\u001b[0;32m--> 977\u001b[0;31m                     for (cand_idx, parameters), (split_idx, (train, test)) in product(\n\u001b[0m\u001b[1;32m    978\u001b[0m                         \u001b[0menumerate\u001b[0m\u001b[0;34m(\u001b[0m\u001b[0mcandidate_params\u001b[0m\u001b[0;34m)\u001b[0m\u001b[0;34m,\u001b[0m\u001b[0;34m\u001b[0m\u001b[0;34m\u001b[0m\u001b[0m\n\u001b[1;32m    979\u001b[0m                         \u001b[0menumerate\u001b[0m\u001b[0;34m(\u001b[0m\u001b[0mcv\u001b[0m\u001b[0;34m.\u001b[0m\u001b[0msplit\u001b[0m\u001b[0;34m(\u001b[0m\u001b[0mX\u001b[0m\u001b[0;34m,\u001b[0m \u001b[0my\u001b[0m\u001b[0;34m,\u001b[0m \u001b[0;34m**\u001b[0m\u001b[0mrouted_params\u001b[0m\u001b[0;34m.\u001b[0m\u001b[0msplitter\u001b[0m\u001b[0;34m.\u001b[0m\u001b[0msplit\u001b[0m\u001b[0;34m)\u001b[0m\u001b[0;34m)\u001b[0m\u001b[0;34m,\u001b[0m\u001b[0;34m\u001b[0m\u001b[0;34m\u001b[0m\u001b[0m\n",
            "\u001b[0;32m/usr/local/lib/python3.10/dist-packages/sklearn/model_selection/_split.py\u001b[0m in \u001b[0;36msplit\u001b[0;34m(self, X, y, groups)\u001b[0m\n\u001b[1;32m    407\u001b[0m         \u001b[0mn_samples\u001b[0m \u001b[0;34m=\u001b[0m \u001b[0m_num_samples\u001b[0m\u001b[0;34m(\u001b[0m\u001b[0mX\u001b[0m\u001b[0;34m)\u001b[0m\u001b[0;34m\u001b[0m\u001b[0;34m\u001b[0m\u001b[0m\n\u001b[1;32m    408\u001b[0m         \u001b[0;32mif\u001b[0m \u001b[0mself\u001b[0m\u001b[0;34m.\u001b[0m\u001b[0mn_splits\u001b[0m \u001b[0;34m>\u001b[0m \u001b[0mn_samples\u001b[0m\u001b[0;34m:\u001b[0m\u001b[0;34m\u001b[0m\u001b[0;34m\u001b[0m\u001b[0m\n\u001b[0;32m--> 409\u001b[0;31m             raise ValueError(\n\u001b[0m\u001b[1;32m    410\u001b[0m                 (\n\u001b[1;32m    411\u001b[0m                     \u001b[0;34m\"Cannot have number of splits n_splits={0} greater\"\u001b[0m\u001b[0;34m\u001b[0m\u001b[0;34m\u001b[0m\u001b[0m\n",
            "\u001b[0;31mValueError\u001b[0m: Cannot have number of splits n_splits=3 greater than the number of samples: n_samples=2."
          ]
        }
      ]
    },
    {
      "cell_type": "code",
      "execution_count": null,
      "metadata": {
        "id": "-UfYWYlAlAat"
      },
      "outputs": [],
      "source": [
        "from tensorflow.keras import optimizers\n",
        "optimizer=optimizers.Adam(learning_rate=0.001)\n",
        "model.compile(optimizer=optimizer, loss='categorical_crossentropy', metrics=['accuracy'])"
      ]
    },
    {
      "cell_type": "code",
      "execution_count": null,
      "metadata": {
        "id": "PFFgaE1SrCSJ"
      },
      "outputs": [],
      "source": [
        "checkpoint_cb = keras.callbacks.ModelCheckpoint(\"CNN_model-{epoch:02d}.keras\")\n",
        "early_stopping_cb = keras.callbacks.EarlyStopping(patience=10,restore_best_weights=True)"
      ]
    },
    {
      "cell_type": "code",
      "execution_count": null,
      "metadata": {
        "colab": {
          "base_uri": "https://localhost:8080/"
        },
        "id": "JrbPJag2lCec",
        "outputId": "cea0393b-1f1c-4413-8e87-9ba98fdfa122"
      },
      "outputs": [
        {
          "name": "stdout",
          "output_type": "stream",
          "text": [
            "Epoch 1/10\n",
            "\u001b[1m33/50\u001b[0m \u001b[32m━━━━━━━━━━━━━\u001b[0m\u001b[37m━━━━━━━\u001b[0m \u001b[1m8:15\u001b[0m 29s/step - accuracy: 0.3062 - loss: 20.5215"
          ]
        }
      ],
      "source": [
        "history=model.fit(\n",
        "    train_generator,\n",
        "    steps_per_epoch=50,\n",
        "    epochs=10,\n",
        "    validation_data=validation_generator,\n",
        "    validation_steps=50,\n",
        "    callbacks=[checkpoint_cb,early_stopping_cb]\n",
        ")"
      ]
    },
    {
      "cell_type": "code",
      "execution_count": null,
      "metadata": {
        "colab": {
          "base_uri": "https://localhost:8080/",
          "height": 451
        },
        "id": "r43OpLXjIdbn",
        "outputId": "491532f5-9ca5-4c9a-88bb-512af9fc662c"
      },
      "outputs": [
        {
          "data": {
            "image/png": "[encoded data removed]",
            "text/plain": [
              "<Figure size 800x500 with 1 Axes>"
            ]
          },
          "metadata": {},
          "output_type": "display_data"
        }
      ],
      "source": [
        "pd.DataFrame(history.history).plot(figsize=(8, 5))\n",
        "plt.grid(True)\n",
        "plt.gca().set_ylim(0, 1)\n",
        "plt.show()"
      ]
    },
    {
      "cell_type": "code",
      "execution_count": null,
      "metadata": {
        "colab": {
          "base_uri": "https://localhost:8080/"
        },
        "id": "Qthw2LdgJLoQ",
        "outputId": "ee1df7d5-baf1-4a32-e509-7168fbc65ba9"
      },
      "outputs": [
        {
          "name": "stdout",
          "output_type": "stream",
          "text": [
            "Found 1656 images belonging to 5 classes.\n",
            "\u001b[1m50/50\u001b[0m \u001b[32m━━━━━━━━━━━━━━━━━━━━\u001b[0m\u001b[37m\u001b[0m \u001b[1m859s\u001b[0m 17s/step - accuracy: 0.3846 - loss: 1.4207\n"
          ]
        },
        {
          "data": {
            "text/plain": [
              "[1.4122799634933472, 0.38499999046325684]"
            ]
          },
          "execution_count": 27,
          "metadata": {},
          "output_type": "execute_result"
        }
      ],
      "source": [
        "test_generator = test_datagen.flow_from_directory(\n",
        "        test_dir,\n",
        "        target_size=(224, 224),\n",
        "        batch_size=32,\n",
        "        class_mode='categorical')\n",
        "model.evaluate(test_generator,steps=50)"
      ]
    }
  ],
  "metadata": {
    "colab": {
      "provenance": []
    },
    "kernelspec": {
      "display_name": "Python 3",
      "name": "python3"
    },
    "language_info": {
      "name": "python"
    }
  },
  "nbformat": 4,
  "nbformat_minor": 0
}